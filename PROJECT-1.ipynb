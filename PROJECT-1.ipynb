{
 "cells": [
  {
   "cell_type": "code",
   "execution_count": 165,
   "id": "05dd64b6-2a7d-4398-bd51-e2d524dbc020",
   "metadata": {
    "tags": []
   },
   "outputs": [
    {
     "name": "stdout",
     "output_type": "stream",
     "text": [
      "Requirement already satisfied: bs4 in c:\\users\\bhara\\anaconda3\\lib\\site-packages (0.0.2)\n",
      "Requirement already satisfied: beautifulsoup4 in c:\\users\\bhara\\anaconda3\\lib\\site-packages (from bs4) (4.12.2)\n",
      "Requirement already satisfied: soupsieve>1.2 in c:\\users\\bhara\\anaconda3\\lib\\site-packages (from beautifulsoup4->bs4) (2.4)\n",
      "Note: you may need to restart the kernel to use updated packages.\n"
     ]
    }
   ],
   "source": [
    "pip install bs4"
   ]
  },
  {
   "cell_type": "code",
   "execution_count": 166,
   "id": "30569158-3e1c-4d13-a1f5-023be52661ba",
   "metadata": {
    "tags": []
   },
   "outputs": [
    {
     "name": "stdout",
     "output_type": "stream",
     "text": [
      "Requirement already satisfied: requests in c:\\users\\bhara\\anaconda3\\lib\\site-packages (2.31.0)\n",
      "Requirement already satisfied: charset-normalizer<4,>=2 in c:\\users\\bhara\\anaconda3\\lib\\site-packages (from requests) (2.0.4)\n",
      "Requirement already satisfied: idna<4,>=2.5 in c:\\users\\bhara\\anaconda3\\lib\\site-packages (from requests) (3.4)\n",
      "Requirement already satisfied: urllib3<3,>=1.21.1 in c:\\users\\bhara\\anaconda3\\lib\\site-packages (from requests) (1.26.16)\n",
      "Requirement already satisfied: certifi>=2017.4.17 in c:\\users\\bhara\\anaconda3\\lib\\site-packages (from requests) (2023.7.22)\n",
      "Note: you may need to restart the kernel to use updated packages.\n"
     ]
    }
   ],
   "source": [
    "pip install requests"
   ]
  },
  {
   "cell_type": "code",
   "execution_count": 167,
   "id": "fae14aa5-1bd5-4bca-897e-aef8f12686bd",
   "metadata": {
    "tags": []
   },
   "outputs": [
    {
     "name": "stdout",
     "output_type": "stream",
     "text": [
      "Requirement already satisfied: lxml in c:\\users\\bhara\\anaconda3\\lib\\site-packages (4.9.2)\n",
      "Note: you may need to restart the kernel to use updated packages.\n"
     ]
    }
   ],
   "source": [
    "pip install lxml"
   ]
  },
  {
   "cell_type": "code",
   "execution_count": 168,
   "id": "81057fd7-5e1f-4dba-b700-2d5690625ae8",
   "metadata": {
    "tags": []
   },
   "outputs": [],
   "source": [
    "import re"
   ]
  },
  {
   "cell_type": "code",
   "execution_count": 194,
   "id": "b02032ac-10da-44d1-9add-da9c9f2e903f",
   "metadata": {
    "tags": []
   },
   "outputs": [],
   "source": [
    "from bs4 import BeautifulSoup\n",
    "import requests\n",
    "import pandas as pd"
   ]
  },
  {
   "cell_type": "code",
   "execution_count": 273,
   "id": "f89e2471-d4ae-47a4-8972-b108a2293232",
   "metadata": {
    "tags": []
   },
   "outputs": [],
   "source": [
    "for i in range(2,10):\n",
    "    \n",
    "    URL = \"https://www.flipkart.com/search?q=snacks&otracker=search&otracker1=search&marketplace=FLIPKART&as-show=on&as=off&page=\"+str(i)\n",
    "    header = {\n",
    "        'User-Agent': 'Mozilla/5.0 (Windows NT 10.0; Win64; x64; rv:123.0) Gecko/20100101 Firefox/123.0',\n",
    "        'Accept': '/',\n",
    "        'Content-Type': 'application/json' }\n",
    "\n",
    "    webpage = requests.get(URL,headers = header)\n",
    "\n",
    "    \n",
    "    html_data = webpage.text\n",
    "    data = BeautifulSoup(html_data,'html.parser')\n",
    "    \n",
    "    box = data.find(\"div\",class_ = \"DOjaWF gdgoEp\")\n",
    "    Product_Name=[] #List to name of the product\n",
    "    Brand=[] # Brand Company Name\n",
    "    #Category=[] #List to store rating of the product\n",
    "    #Product_Barcode=[] #List to store name of the product\n",
    "    Price=[] #List to store price of the Product\n",
    "    Weight=[] #List to Weight of the product\n",
    "    #Product_Description=[] #List to store name of the product\n",
    "    Product_Image_URL=[] #List to Image_ of the product\n",
    "    Product_URL=[] #List to store rating of the product\n",
    "    #Product_Expiry=[] #List to store name of the product\n",
    "    Reviews=[]\n",
    "\n",
    "    #Product names\n",
    "    names = box.find_all(\"a\", class_ = \"wjcEIp\")\n",
    "\n",
    "    for i in names:\n",
    "        \n",
    "        name = i.text\n",
    "        Product_Name.append(name)\n",
    "        \n",
    "    brand = box.find_all(\"a\", class_ = \"wjcEIp\")\n",
    "\n",
    "    for i in brand:\n",
    "        \n",
    "        name = i.text\n",
    "        Brand.append(name.split()[0])\n",
    "\n",
    "    #Product Price\n",
    "    price = box.find_all(class_ = \"Nx9bqj\")\n",
    "\n",
    "    for i in price:\n",
    "        name = i.text\n",
    "        Price.append(name)\n",
    "\n",
    "    #Product Weight\n",
    "    Volume = box.find_all(class_ = \"NqpwHC\")\n",
    "    \n",
    "    for i in Volume:\n",
    "        weight = i.text\n",
    "        Weight.append(weight)\n",
    "     \n",
    "    #Product Image\n",
    "    Img = box.find_all(\"img\",class_ = \"DByuf4\")\n",
    "    \n",
    "    for i in Img:\n",
    "        src = i.get('src')\n",
    "        Product_Image_URL.append(src)\n",
    "        \n",
    "    #Product URL\n",
    "    URL = box.find_all(\"a\",class_ = \"wjcEIp\")\n",
    "    \n",
    "    for i in URL:\n",
    "        base_url = \"https://www.flipkart.com/\"\n",
    "        link = i.get('href')\n",
    "        Product_URL.append(base_url + link)\n",
    "        \n",
    "    review = box.find_all(\"div\",class_ = \"XQDdHH\")\n",
    "    \n",
    "    for i in review:\n",
    "        rating = i.text\n",
    "        Reviews.append(rating)\n",
    "        \n",
    "        \n",
    "    \n",
    "             \n",
    "    "
   ]
  },
  {
   "cell_type": "code",
   "execution_count": 274,
   "id": "c35bf05d-8a4d-4a81-afcc-db2955efeb63",
   "metadata": {
    "tags": []
   },
   "outputs": [
    {
     "data": {
      "text/plain": [
       "40"
      ]
     },
     "execution_count": 274,
     "metadata": {},
     "output_type": "execute_result"
    }
   ],
   "source": [
    "len(Reviews)"
   ]
  },
  {
   "cell_type": "code",
   "execution_count": 275,
   "id": "6386c3dc-9873-412f-bd5f-a92cb2d8843f",
   "metadata": {
    "tags": []
   },
   "outputs": [],
   "source": [
    "df = pd.DataFrame({'Product Name':Product_Name,'Brand':Brand,'Price':Price,'Weight':Weight,'Image':Product_Image_URL,'Product URL':Product_URL,'Reviews' : Reviews}) \n",
    "df.to_csv('DATA.csv', index=False, encoding='utf-8')"
   ]
  },
  {
   "cell_type": "code",
   "execution_count": 99,
   "id": "ef4d1090-b427-4e09-938d-6b7477007217",
   "metadata": {
    "tags": []
   },
   "outputs": [],
   "source": []
  },
  {
   "cell_type": "code",
   "execution_count": 100,
   "id": "db32c0b8-9874-4a38-ab20-6c79a2758c94",
   "metadata": {
    "tags": []
   },
   "outputs": [],
   "source": []
  },
  {
   "cell_type": "code",
   "execution_count": 103,
   "id": "9e95b7b3-2a6a-4d75-a1cd-987037b214e6",
   "metadata": {
    "tags": []
   },
   "outputs": [],
   "source": []
  },
  {
   "cell_type": "code",
   "execution_count": null,
   "id": "44f9933a-052f-4d56-8031-6a078d1b55a7",
   "metadata": {
    "tags": []
   },
   "outputs": [],
   "source": []
  },
  {
   "cell_type": "code",
   "execution_count": 110,
   "id": "15b90474-20f0-4c35-8344-48b60a674adb",
   "metadata": {
    "tags": []
   },
   "outputs": [],
   "source": []
  },
  {
   "cell_type": "code",
   "execution_count": null,
   "id": "5572eeec-fba8-4803-8f14-bf9533856fe7",
   "metadata": {
    "tags": []
   },
   "outputs": [],
   "source": []
  },
  {
   "cell_type": "code",
   "execution_count": null,
   "id": "0b9ac3d2-8369-47fd-865e-f1451d84e599",
   "metadata": {},
   "outputs": [],
   "source": []
  }
 ],
 "metadata": {
  "kernelspec": {
   "display_name": "Python 3 (ipykernel)",
   "language": "python",
   "name": "python3"
  },
  "language_info": {
   "codemirror_mode": {
    "name": "ipython",
    "version": 3
   },
   "file_extension": ".py",
   "mimetype": "text/x-python",
   "name": "python",
   "nbconvert_exporter": "python",
   "pygments_lexer": "ipython3",
   "version": "3.11.4"
  }
 },
 "nbformat": 4,
 "nbformat_minor": 5
}
